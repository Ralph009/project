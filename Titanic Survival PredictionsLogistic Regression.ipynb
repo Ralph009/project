{
  "cells": [
    {
      "metadata": {
        "_uuid": "1b867bd5cde7ca7fed7710d0e6ca363610ad97a8"
      },
      "cell_type": "markdown",
      "source": "Using Logistic Regression/Binary Classification for Predictions...\n\n\n\nStay Connected!\n\nANKIT拉尔夫 "
    },
    {
      "metadata": {
        "_uuid": "c984537c08b3caa244805d16c1313c185c3b7f2e",
        "trusted": true
      },
      "cell_type": "code",
      "source": "import pandas as pd\nimport numpy as np\nimport matplotlib.pyplot as plt\nimport seaborn as sns\n%matplotlib inline",
      "execution_count": 73,
      "outputs": []
    },
    {
      "metadata": {
        "_cell_guid": "92808804-4b41-42ef-a042-0aa04edcd70d",
        "collapsed": true,
        "_uuid": "a836d009e7b24ed4bc95a4e05230a8901124e8ea"
      },
      "cell_type": "markdown",
      "source": "Using Pandas library to read the data as DataFrame."
    },
    {
      "metadata": {
        "_cell_guid": "4db91206-4fe6-438d-a4c3-887cb7f048a9",
        "_uuid": "50871c221bacddf80bb2a6a290b1488bd7f22f0a",
        "scrolled": true,
        "trusted": true
      },
      "cell_type": "code",
      "source": "train = pd.read_csv('../input/train.csv')\ntrain.head()",
      "execution_count": 74,
      "outputs": [
        {
          "output_type": "execute_result",
          "execution_count": 74,
          "data": {
            "text/plain": "   PassengerId  Survived  Pclass    ...        Fare Cabin  Embarked\n0            1         0       3    ...      7.2500   NaN         S\n1            2         1       1    ...     71.2833   C85         C\n2            3         1       3    ...      7.9250   NaN         S\n3            4         1       1    ...     53.1000  C123         S\n4            5         0       3    ...      8.0500   NaN         S\n\n[5 rows x 12 columns]",
            "text/html": "<div>\n<style scoped>\n    .dataframe tbody tr th:only-of-type {\n        vertical-align: middle;\n    }\n\n    .dataframe tbody tr th {\n        vertical-align: top;\n    }\n\n    .dataframe thead th {\n        text-align: right;\n    }\n</style>\n<table border=\"1\" class=\"dataframe\">\n  <thead>\n    <tr style=\"text-align: right;\">\n      <th></th>\n      <th>PassengerId</th>\n      <th>Survived</th>\n      <th>Pclass</th>\n      <th>Name</th>\n      <th>Sex</th>\n      <th>Age</th>\n      <th>SibSp</th>\n      <th>Parch</th>\n      <th>Ticket</th>\n      <th>Fare</th>\n      <th>Cabin</th>\n      <th>Embarked</th>\n    </tr>\n  </thead>\n  <tbody>\n    <tr>\n      <th>0</th>\n      <td>1</td>\n      <td>0</td>\n      <td>3</td>\n      <td>Braund, Mr. Owen Harris</td>\n      <td>male</td>\n      <td>22.0</td>\n      <td>1</td>\n      <td>0</td>\n      <td>A/5 21171</td>\n      <td>7.2500</td>\n      <td>NaN</td>\n      <td>S</td>\n    </tr>\n    <tr>\n      <th>1</th>\n      <td>2</td>\n      <td>1</td>\n      <td>1</td>\n      <td>Cumings, Mrs. John Bradley (Florence Briggs Th...</td>\n      <td>female</td>\n      <td>38.0</td>\n      <td>1</td>\n      <td>0</td>\n      <td>PC 17599</td>\n      <td>71.2833</td>\n      <td>C85</td>\n      <td>C</td>\n    </tr>\n    <tr>\n      <th>2</th>\n      <td>3</td>\n      <td>1</td>\n      <td>3</td>\n      <td>Heikkinen, Miss. Laina</td>\n      <td>female</td>\n      <td>26.0</td>\n      <td>0</td>\n      <td>0</td>\n      <td>STON/O2. 3101282</td>\n      <td>7.9250</td>\n      <td>NaN</td>\n      <td>S</td>\n    </tr>\n    <tr>\n      <th>3</th>\n      <td>4</td>\n      <td>1</td>\n      <td>1</td>\n      <td>Futrelle, Mrs. Jacques Heath (Lily May Peel)</td>\n      <td>female</td>\n      <td>35.0</td>\n      <td>1</td>\n      <td>0</td>\n      <td>113803</td>\n      <td>53.1000</td>\n      <td>C123</td>\n      <td>S</td>\n    </tr>\n    <tr>\n      <th>4</th>\n      <td>5</td>\n      <td>0</td>\n      <td>3</td>\n      <td>Allen, Mr. William Henry</td>\n      <td>male</td>\n      <td>35.0</td>\n      <td>0</td>\n      <td>0</td>\n      <td>373450</td>\n      <td>8.0500</td>\n      <td>NaN</td>\n      <td>S</td>\n    </tr>\n  </tbody>\n</table>\n</div>"
          },
          "metadata": {}
        }
      ]
    },
    {
      "metadata": {
        "trusted": true,
        "_uuid": "0b450dc6d1c54053b16848b6c8943062b1456117"
      },
      "cell_type": "code",
      "source": "train['Age'].isnull()",
      "execution_count": 75,
      "outputs": [
        {
          "output_type": "execute_result",
          "execution_count": 75,
          "data": {
            "text/plain": "0      False\n1      False\n2      False\n3      False\n4      False\n5       True\n6      False\n7      False\n8      False\n9      False\n10     False\n11     False\n12     False\n13     False\n14     False\n15     False\n16     False\n17      True\n18     False\n19      True\n20     False\n21     False\n22     False\n23     False\n24     False\n25     False\n26      True\n27     False\n28      True\n29      True\n       ...  \n861    False\n862    False\n863     True\n864    False\n865    False\n866    False\n867    False\n868     True\n869    False\n870    False\n871    False\n872    False\n873    False\n874    False\n875    False\n876    False\n877    False\n878     True\n879    False\n880    False\n881    False\n882    False\n883    False\n884    False\n885    False\n886    False\n887    False\n888     True\n889    False\n890    False\nName: Age, Length: 891, dtype: bool"
          },
          "metadata": {}
        }
      ]
    },
    {
      "metadata": {
        "_uuid": "b5b8a1afe18af5fe3aecae31e01176d4f4e2f55b",
        "trusted": true
      },
      "cell_type": "code",
      "source": "#Apart from using this function to fill up the missing values we can use;\n#from sklearn.impute import SimpleImputer\n#my_imputer = SimpleImputer()\n#data_with_imputed_values = my_imputer.fit_transform(original_data)\ndef impute_age(cols):\n    Age = cols[0]\n    Pclass = cols[1]\n    \n    if pd.isnull(Age):\n\n        if Pclass == 1:\n            return 37 #using pandas mean function or seaborn box plot \n\n        elif Pclass == 2:\n            return 29\n\n        else:\n            return 24\n\n    else:\n        return Age",
      "execution_count": 76,
      "outputs": []
    },
    {
      "metadata": {
        "_uuid": "9117006e3252b0639fc4cf438cfc3f573176fba6",
        "trusted": true,
        "scrolled": true
      },
      "cell_type": "code",
      "source": "train['Age'] = train[['Age','Pclass']].apply(impute_age,axis=1)",
      "execution_count": 77,
      "outputs": []
    },
    {
      "metadata": {
        "_uuid": "ddacce1fad190bcabbc6577b9c1e157ed1eb2f3d",
        "trusted": true,
        "scrolled": false
      },
      "cell_type": "code",
      "source": "Dsex = pd.get_dummies(train['Sex'],drop_first=True) #get dummies method of pandas to convert categorical variable into dummy/indicator variables.\nDembark = pd.get_dummies(train['Embarked'],drop_first=True) #drop_first to drop first column.\n",
      "execution_count": 78,
      "outputs": []
    },
    {
      "metadata": {
        "trusted": true,
        "_uuid": "9b3f400f519f12678dbcb468f7e23d687e350b4a"
      },
      "cell_type": "code",
      "source": "train.head(5)",
      "execution_count": 79,
      "outputs": [
        {
          "output_type": "execute_result",
          "execution_count": 79,
          "data": {
            "text/plain": "   PassengerId  Survived  Pclass    ...        Fare Cabin  Embarked\n0            1         0       3    ...      7.2500   NaN         S\n1            2         1       1    ...     71.2833   C85         C\n2            3         1       3    ...      7.9250   NaN         S\n3            4         1       1    ...     53.1000  C123         S\n4            5         0       3    ...      8.0500   NaN         S\n\n[5 rows x 12 columns]",
            "text/html": "<div>\n<style scoped>\n    .dataframe tbody tr th:only-of-type {\n        vertical-align: middle;\n    }\n\n    .dataframe tbody tr th {\n        vertical-align: top;\n    }\n\n    .dataframe thead th {\n        text-align: right;\n    }\n</style>\n<table border=\"1\" class=\"dataframe\">\n  <thead>\n    <tr style=\"text-align: right;\">\n      <th></th>\n      <th>PassengerId</th>\n      <th>Survived</th>\n      <th>Pclass</th>\n      <th>Name</th>\n      <th>Sex</th>\n      <th>Age</th>\n      <th>SibSp</th>\n      <th>Parch</th>\n      <th>Ticket</th>\n      <th>Fare</th>\n      <th>Cabin</th>\n      <th>Embarked</th>\n    </tr>\n  </thead>\n  <tbody>\n    <tr>\n      <th>0</th>\n      <td>1</td>\n      <td>0</td>\n      <td>3</td>\n      <td>Braund, Mr. Owen Harris</td>\n      <td>male</td>\n      <td>22.0</td>\n      <td>1</td>\n      <td>0</td>\n      <td>A/5 21171</td>\n      <td>7.2500</td>\n      <td>NaN</td>\n      <td>S</td>\n    </tr>\n    <tr>\n      <th>1</th>\n      <td>2</td>\n      <td>1</td>\n      <td>1</td>\n      <td>Cumings, Mrs. John Bradley (Florence Briggs Th...</td>\n      <td>female</td>\n      <td>38.0</td>\n      <td>1</td>\n      <td>0</td>\n      <td>PC 17599</td>\n      <td>71.2833</td>\n      <td>C85</td>\n      <td>C</td>\n    </tr>\n    <tr>\n      <th>2</th>\n      <td>3</td>\n      <td>1</td>\n      <td>3</td>\n      <td>Heikkinen, Miss. Laina</td>\n      <td>female</td>\n      <td>26.0</td>\n      <td>0</td>\n      <td>0</td>\n      <td>STON/O2. 3101282</td>\n      <td>7.9250</td>\n      <td>NaN</td>\n      <td>S</td>\n    </tr>\n    <tr>\n      <th>3</th>\n      <td>4</td>\n      <td>1</td>\n      <td>1</td>\n      <td>Futrelle, Mrs. Jacques Heath (Lily May Peel)</td>\n      <td>female</td>\n      <td>35.0</td>\n      <td>1</td>\n      <td>0</td>\n      <td>113803</td>\n      <td>53.1000</td>\n      <td>C123</td>\n      <td>S</td>\n    </tr>\n    <tr>\n      <th>4</th>\n      <td>5</td>\n      <td>0</td>\n      <td>3</td>\n      <td>Allen, Mr. William Henry</td>\n      <td>male</td>\n      <td>35.0</td>\n      <td>0</td>\n      <td>0</td>\n      <td>373450</td>\n      <td>8.0500</td>\n      <td>NaN</td>\n      <td>S</td>\n    </tr>\n  </tbody>\n</table>\n</div>"
          },
          "metadata": {}
        }
      ]
    },
    {
      "metadata": {
        "trusted": true,
        "_uuid": "e7b345b18b50861f6ae57dcbdcd8bf1d8b9ce9c6"
      },
      "cell_type": "code",
      "source": "train['Age'].isnull()",
      "execution_count": 80,
      "outputs": [
        {
          "output_type": "execute_result",
          "execution_count": 80,
          "data": {
            "text/plain": "0      False\n1      False\n2      False\n3      False\n4      False\n5      False\n6      False\n7      False\n8      False\n9      False\n10     False\n11     False\n12     False\n13     False\n14     False\n15     False\n16     False\n17     False\n18     False\n19     False\n20     False\n21     False\n22     False\n23     False\n24     False\n25     False\n26     False\n27     False\n28     False\n29     False\n       ...  \n861    False\n862    False\n863    False\n864    False\n865    False\n866    False\n867    False\n868    False\n869    False\n870    False\n871    False\n872    False\n873    False\n874    False\n875    False\n876    False\n877    False\n878    False\n879    False\n880    False\n881    False\n882    False\n883    False\n884    False\n885    False\n886    False\n887    False\n888    False\n889    False\n890    False\nName: Age, Length: 891, dtype: bool"
          },
          "metadata": {}
        }
      ]
    },
    {
      "metadata": {
        "_uuid": "06bbe8e3da849a742e7850f68c16726ddc36419c",
        "trusted": true,
        "scrolled": true
      },
      "cell_type": "code",
      "source": "train.drop(['PassengerId','Cabin','Sex','Embarked','Name','Ticket'],axis=1,inplace=True)",
      "execution_count": 81,
      "outputs": []
    },
    {
      "metadata": {
        "trusted": true,
        "_uuid": "41ace5931d47c238255a32e642a9685ba6e83c60"
      },
      "cell_type": "code",
      "source": "train.head(1)",
      "execution_count": 82,
      "outputs": [
        {
          "output_type": "execute_result",
          "execution_count": 82,
          "data": {
            "text/plain": "   Survived  Pclass   Age  SibSp  Parch  Fare\n0         0       3  22.0      1      0  7.25",
            "text/html": "<div>\n<style scoped>\n    .dataframe tbody tr th:only-of-type {\n        vertical-align: middle;\n    }\n\n    .dataframe tbody tr th {\n        vertical-align: top;\n    }\n\n    .dataframe thead th {\n        text-align: right;\n    }\n</style>\n<table border=\"1\" class=\"dataframe\">\n  <thead>\n    <tr style=\"text-align: right;\">\n      <th></th>\n      <th>Survived</th>\n      <th>Pclass</th>\n      <th>Age</th>\n      <th>SibSp</th>\n      <th>Parch</th>\n      <th>Fare</th>\n    </tr>\n  </thead>\n  <tbody>\n    <tr>\n      <th>0</th>\n      <td>0</td>\n      <td>3</td>\n      <td>22.0</td>\n      <td>1</td>\n      <td>0</td>\n      <td>7.25</td>\n    </tr>\n  </tbody>\n</table>\n</div>"
          },
          "metadata": {}
        }
      ]
    },
    {
      "metadata": {
        "_uuid": "b5bc4a87dea581ddd1963cbc170c0c2cb1282580",
        "trusted": true
      },
      "cell_type": "code",
      "source": "train = pd.concat([train,Dsex,Dembark],axis=1)",
      "execution_count": 83,
      "outputs": []
    },
    {
      "metadata": {
        "_uuid": "09713706abf113dfe6a2d4a022c0b2547092e6b4",
        "trusted": true
      },
      "cell_type": "code",
      "source": "train.head(1)",
      "execution_count": 84,
      "outputs": [
        {
          "output_type": "execute_result",
          "execution_count": 84,
          "data": {
            "text/plain": "   Survived  Pclass   Age  SibSp  Parch  Fare  male  Q  S\n0         0       3  22.0      1      0  7.25     1  0  1",
            "text/html": "<div>\n<style scoped>\n    .dataframe tbody tr th:only-of-type {\n        vertical-align: middle;\n    }\n\n    .dataframe tbody tr th {\n        vertical-align: top;\n    }\n\n    .dataframe thead th {\n        text-align: right;\n    }\n</style>\n<table border=\"1\" class=\"dataframe\">\n  <thead>\n    <tr style=\"text-align: right;\">\n      <th></th>\n      <th>Survived</th>\n      <th>Pclass</th>\n      <th>Age</th>\n      <th>SibSp</th>\n      <th>Parch</th>\n      <th>Fare</th>\n      <th>male</th>\n      <th>Q</th>\n      <th>S</th>\n    </tr>\n  </thead>\n  <tbody>\n    <tr>\n      <th>0</th>\n      <td>0</td>\n      <td>3</td>\n      <td>22.0</td>\n      <td>1</td>\n      <td>0</td>\n      <td>7.25</td>\n      <td>1</td>\n      <td>0</td>\n      <td>1</td>\n    </tr>\n  </tbody>\n</table>\n</div>"
          },
          "metadata": {}
        }
      ]
    },
    {
      "metadata": {
        "trusted": true,
        "_uuid": "02c26a1df1560800ba28c384b788715d6fcf0984"
      },
      "cell_type": "code",
      "source": "",
      "execution_count": null,
      "outputs": []
    },
    {
      "metadata": {
        "_uuid": "34d5096c3ea5cee828f8a662993657421ab9a006"
      },
      "cell_type": "markdown",
      "source": "**LogisticRegression**"
    },
    {
      "metadata": {
        "trusted": true,
        "_uuid": "7b50fb2b52654e357d053137ef50df2445a47ae1"
      },
      "cell_type": "code",
      "source": "X=train.drop(['Survived'],axis=1)\ny=train['Survived']",
      "execution_count": 85,
      "outputs": []
    },
    {
      "metadata": {
        "_uuid": "3032aa2994c45ebcd63a9bba025b33ec2edf9be3",
        "trusted": true
      },
      "cell_type": "code",
      "source": "from sklearn.model_selection import train_test_split",
      "execution_count": 86,
      "outputs": []
    },
    {
      "metadata": {
        "_uuid": "13a026822d5d70b30c1d6b7eb3e566fae3f6a7b3",
        "trusted": true
      },
      "cell_type": "code",
      "source": "X_train, X_test, y_train, y_test = train_test_split(train.drop('Survived',axis=1), \n                                                    train['Survived'], test_size=0.50, \n                                                    random_state=101)",
      "execution_count": 87,
      "outputs": []
    },
    {
      "metadata": {
        "_uuid": "110b32fcfae24bbf32400d7a7231bee17769651c",
        "trusted": true
      },
      "cell_type": "code",
      "source": "from sklearn.linear_model import LogisticRegression",
      "execution_count": 88,
      "outputs": []
    },
    {
      "metadata": {
        "_uuid": "22e0994b81108774e174de7615b945e5076a7c5e",
        "trusted": true
      },
      "cell_type": "code",
      "source": "lm = LogisticRegression()\nlm.fit(X_train,y_train)",
      "execution_count": 89,
      "outputs": [
        {
          "output_type": "stream",
          "text": "/opt/conda/lib/python3.6/site-packages/sklearn/linear_model/logistic.py:432: FutureWarning: Default solver will be changed to 'lbfgs' in 0.22. Specify a solver to silence this warning.\n  FutureWarning)\n",
          "name": "stderr"
        },
        {
          "output_type": "execute_result",
          "execution_count": 89,
          "data": {
            "text/plain": "LogisticRegression(C=1.0, class_weight=None, dual=False, fit_intercept=True,\n          intercept_scaling=1, max_iter=100, multi_class='warn',\n          n_jobs=None, penalty='l2', random_state=None, solver='warn',\n          tol=0.0001, verbose=0, warm_start=False)"
          },
          "metadata": {}
        }
      ]
    },
    {
      "metadata": {
        "_uuid": "ff0747e08108986d18bca5e3c628efb8e93b29e0",
        "trusted": true
      },
      "cell_type": "code",
      "source": "predictions = logmodel.predict(X_test)",
      "execution_count": 90,
      "outputs": []
    },
    {
      "metadata": {
        "trusted": true,
        "_uuid": "29ca21630638eb19f6f7cf1849fa09dd82079574"
      },
      "cell_type": "code",
      "source": "ML = pd.DataFrame(predictions)",
      "execution_count": 91,
      "outputs": []
    },
    {
      "metadata": {
        "trusted": true,
        "_uuid": "5c936db1a4ecc3d80f131875a2de6be98b9d9883"
      },
      "cell_type": "code",
      "source": "ML #The Predictions",
      "execution_count": 92,
      "outputs": [
        {
          "output_type": "execute_result",
          "execution_count": 92,
          "data": {
            "text/plain": "     0\n0    0\n1    1\n2    0\n3    0\n4    0\n5    0\n6    0\n7    0\n8    1\n9    1\n10   0\n11   0\n12   1\n13   0\n14   0\n15   0\n16   0\n17   0\n18   0\n19   1\n20   0\n21   0\n22   1\n23   1\n24   0\n25   0\n26   0\n27   0\n28   0\n29   0\n..  ..\n416  1\n417  0\n418  0\n419  0\n420  0\n421  0\n422  0\n423  1\n424  1\n425  0\n426  0\n427  0\n428  0\n429  0\n430  0\n431  0\n432  0\n433  0\n434  1\n435  1\n436  1\n437  1\n438  1\n439  0\n440  0\n441  0\n442  1\n443  1\n444  0\n445  1\n\n[446 rows x 1 columns]",
            "text/html": "<div>\n<style scoped>\n    .dataframe tbody tr th:only-of-type {\n        vertical-align: middle;\n    }\n\n    .dataframe tbody tr th {\n        vertical-align: top;\n    }\n\n    .dataframe thead th {\n        text-align: right;\n    }\n</style>\n<table border=\"1\" class=\"dataframe\">\n  <thead>\n    <tr style=\"text-align: right;\">\n      <th></th>\n      <th>0</th>\n    </tr>\n  </thead>\n  <tbody>\n    <tr>\n      <th>0</th>\n      <td>0</td>\n    </tr>\n    <tr>\n      <th>1</th>\n      <td>1</td>\n    </tr>\n    <tr>\n      <th>2</th>\n      <td>0</td>\n    </tr>\n    <tr>\n      <th>3</th>\n      <td>0</td>\n    </tr>\n    <tr>\n      <th>4</th>\n      <td>0</td>\n    </tr>\n    <tr>\n      <th>5</th>\n      <td>0</td>\n    </tr>\n    <tr>\n      <th>6</th>\n      <td>0</td>\n    </tr>\n    <tr>\n      <th>7</th>\n      <td>0</td>\n    </tr>\n    <tr>\n      <th>8</th>\n      <td>1</td>\n    </tr>\n    <tr>\n      <th>9</th>\n      <td>1</td>\n    </tr>\n    <tr>\n      <th>10</th>\n      <td>0</td>\n    </tr>\n    <tr>\n      <th>11</th>\n      <td>0</td>\n    </tr>\n    <tr>\n      <th>12</th>\n      <td>1</td>\n    </tr>\n    <tr>\n      <th>13</th>\n      <td>0</td>\n    </tr>\n    <tr>\n      <th>14</th>\n      <td>0</td>\n    </tr>\n    <tr>\n      <th>15</th>\n      <td>0</td>\n    </tr>\n    <tr>\n      <th>16</th>\n      <td>0</td>\n    </tr>\n    <tr>\n      <th>17</th>\n      <td>0</td>\n    </tr>\n    <tr>\n      <th>18</th>\n      <td>0</td>\n    </tr>\n    <tr>\n      <th>19</th>\n      <td>1</td>\n    </tr>\n    <tr>\n      <th>20</th>\n      <td>0</td>\n    </tr>\n    <tr>\n      <th>21</th>\n      <td>0</td>\n    </tr>\n    <tr>\n      <th>22</th>\n      <td>1</td>\n    </tr>\n    <tr>\n      <th>23</th>\n      <td>1</td>\n    </tr>\n    <tr>\n      <th>24</th>\n      <td>0</td>\n    </tr>\n    <tr>\n      <th>25</th>\n      <td>0</td>\n    </tr>\n    <tr>\n      <th>26</th>\n      <td>0</td>\n    </tr>\n    <tr>\n      <th>27</th>\n      <td>0</td>\n    </tr>\n    <tr>\n      <th>28</th>\n      <td>0</td>\n    </tr>\n    <tr>\n      <th>29</th>\n      <td>0</td>\n    </tr>\n    <tr>\n      <th>...</th>\n      <td>...</td>\n    </tr>\n    <tr>\n      <th>416</th>\n      <td>1</td>\n    </tr>\n    <tr>\n      <th>417</th>\n      <td>0</td>\n    </tr>\n    <tr>\n      <th>418</th>\n      <td>0</td>\n    </tr>\n    <tr>\n      <th>419</th>\n      <td>0</td>\n    </tr>\n    <tr>\n      <th>420</th>\n      <td>0</td>\n    </tr>\n    <tr>\n      <th>421</th>\n      <td>0</td>\n    </tr>\n    <tr>\n      <th>422</th>\n      <td>0</td>\n    </tr>\n    <tr>\n      <th>423</th>\n      <td>1</td>\n    </tr>\n    <tr>\n      <th>424</th>\n      <td>1</td>\n    </tr>\n    <tr>\n      <th>425</th>\n      <td>0</td>\n    </tr>\n    <tr>\n      <th>426</th>\n      <td>0</td>\n    </tr>\n    <tr>\n      <th>427</th>\n      <td>0</td>\n    </tr>\n    <tr>\n      <th>428</th>\n      <td>0</td>\n    </tr>\n    <tr>\n      <th>429</th>\n      <td>0</td>\n    </tr>\n    <tr>\n      <th>430</th>\n      <td>0</td>\n    </tr>\n    <tr>\n      <th>431</th>\n      <td>0</td>\n    </tr>\n    <tr>\n      <th>432</th>\n      <td>0</td>\n    </tr>\n    <tr>\n      <th>433</th>\n      <td>0</td>\n    </tr>\n    <tr>\n      <th>434</th>\n      <td>1</td>\n    </tr>\n    <tr>\n      <th>435</th>\n      <td>1</td>\n    </tr>\n    <tr>\n      <th>436</th>\n      <td>1</td>\n    </tr>\n    <tr>\n      <th>437</th>\n      <td>1</td>\n    </tr>\n    <tr>\n      <th>438</th>\n      <td>1</td>\n    </tr>\n    <tr>\n      <th>439</th>\n      <td>0</td>\n    </tr>\n    <tr>\n      <th>440</th>\n      <td>0</td>\n    </tr>\n    <tr>\n      <th>441</th>\n      <td>0</td>\n    </tr>\n    <tr>\n      <th>442</th>\n      <td>1</td>\n    </tr>\n    <tr>\n      <th>443</th>\n      <td>1</td>\n    </tr>\n    <tr>\n      <th>444</th>\n      <td>0</td>\n    </tr>\n    <tr>\n      <th>445</th>\n      <td>1</td>\n    </tr>\n  </tbody>\n</table>\n<p>446 rows × 1 columns</p>\n</div>"
          },
          "metadata": {}
        }
      ]
    },
    {
      "metadata": {
        "trusted": true,
        "_uuid": "7ea9a41c0461d8ab5e36af911f5b6b5eaf177911"
      },
      "cell_type": "code",
      "source": "from sklearn.metrics import confusion_matrix",
      "execution_count": 93,
      "outputs": []
    },
    {
      "metadata": {
        "trusted": true,
        "_uuid": "8137273d3eaf72171b9551ef981e26f94eb04f51"
      },
      "cell_type": "code",
      "source": "confusion_matrix(y_test,predictions)",
      "execution_count": 94,
      "outputs": [
        {
          "output_type": "execute_result",
          "execution_count": 94,
          "data": {
            "text/plain": "array([[239,  36],\n       [ 55, 116]])"
          },
          "metadata": {}
        }
      ]
    }
  ],
  "metadata": {
    "kernelspec": {
      "display_name": "Python 3",
      "language": "python",
      "name": "python3"
    },
    "language_info": {
      "name": "python",
      "version": "3.6.6",
      "mimetype": "text/x-python",
      "codemirror_mode": {
        "name": "ipython",
        "version": 3
      },
      "pygments_lexer": "ipython3",
      "nbconvert_exporter": "python",
      "file_extension": ".py"
    }
  },
  "nbformat": 4,
  "nbformat_minor": 1
}